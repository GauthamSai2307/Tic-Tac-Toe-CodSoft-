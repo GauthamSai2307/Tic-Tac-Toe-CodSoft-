{
 "cells": [
  {
   "cell_type": "code",
   "execution_count": 12,
   "id": "9b61b474-b16a-464e-8d25-eb220bf282a1",
   "metadata": {},
   "outputs": [],
   "source": [
    "import copy"
   ]
  },
  {
   "cell_type": "code",
   "execution_count": 1,
   "id": "b11533b4-88fd-455c-8a24-3cd3e2c41920",
   "metadata": {},
   "outputs": [],
   "source": [
    "def disp_board(board):\n",
    "    for i in board:\n",
    "        print(\" \")\n",
    "        for j in i:\n",
    "            if j == \"X\" or j == \"O\":\n",
    "                print(j, end=\"    \")\n",
    "            else:\n",
    "                print(\"#\", end=\"    \")\n",
    "        print(\"\")"
   ]
  },
  {
   "cell_type": "code",
   "execution_count": 2,
   "id": "0d7beef8-f129-443c-b47a-8eda1e617f75",
   "metadata": {},
   "outputs": [],
   "source": [
    "def make_move(board, move, player):\n",
    "    idx = 0\n",
    "    for i in range(3):\n",
    "        for j in range(3):\n",
    "            if idx == move:\n",
    "                board[i][j] = player\n",
    "                pass\n",
    "            idx += 1\n",
    "    return board"
   ]
  },
  {
   "cell_type": "code",
   "execution_count": 3,
   "id": "56ada267-8e22-41c5-a238-9bc438c10a70",
   "metadata": {},
   "outputs": [],
   "source": [
    "def eval_victory(board):\n",
    "    if board[0][0] == board[1][1] and board[1][1] == board[2][2]:\n",
    "        return True, board[1][1]\n",
    "    if board[0][2] == board[1][1] and board[1][1] == board[2][0]:\n",
    "        return True, board[1][1]\n",
    "\n",
    "    for i in range(3):\n",
    "        temp_lstx, temp_lsty = [], []\n",
    "        for j in range(3):\n",
    "            temp_lstx.append(board[i][j])\n",
    "            temp_lsty.append(board[j][i])\n",
    "        if (temp_lstx[0] == temp_lstx[1] and temp_lstx[1] == temp_lstx[2]) or (temp_lsty[0] == temp_lsty[1] and temp_lsty[1] == temp_lsty[2]):\n",
    "            return True, board[i][i]\n",
    "            break\n",
    "    return False, None"
   ]
  },
  {
   "cell_type": "code",
   "execution_count": 4,
   "id": "19356323-990d-4c80-bf7c-a448ba2de33c",
   "metadata": {},
   "outputs": [],
   "source": [
    "def get_moves(board):\n",
    "    ret_lst = []\n",
    "    for i in range(3):\n",
    "        for j in range(3):\n",
    "            if board[i][j] != \"X\" and board[i][j] != \"O\":\n",
    "                ret_lst.append((i, j))\n",
    "    return ret_lst"
   ]
  },
  {
   "cell_type": "code",
   "execution_count": 34,
   "id": "ac23d2b7-5853-4e16-a083-88b557f12588",
   "metadata": {},
   "outputs": [],
   "source": [
    "def get_pos(board, player):\n",
    "    ret_lst = []\n",
    "    for i in range(3):\n",
    "        for j in range(3):\n",
    "            if board[i][j] == player:\n",
    "                ret_lst.append((i, j))\n",
    "    return  ret_lst\n",
    "\n",
    "def check_win(board, player, moves_lst):\n",
    "    win_moves = []\n",
    "    for move in moves_lst:\n",
    "        temp_board = copy.deepcopy(board)\n",
    "        temp_board[move[0]][move[1]] = player\n",
    "        result, _ = eval_victory(temp_board)\n",
    "        if result:\n",
    "            win_moves.append((move[0], move[1]))\n",
    "    \n",
    "    return win_moves\n",
    "\n",
    "def max_utility(moves_lst):\n",
    "    util_1, util_2, util_3 = [(1, 1)], [(0, 0), (0, 2), (2, 0), (2, 2)], [(0, 1), (1, 0), (1, 2), (2, 1)]\n",
    "    ret_1, ret_2, ret_3 = [], [], []\n",
    "    \n",
    "    for move in moves_lst:\n",
    "        if move in util_1:\n",
    "            ret_1.append(move)\n",
    "        if move in util_2:\n",
    "            ret_2.append(move)\n",
    "        if move in util_3:\n",
    "            ret_3.append(move)\n",
    "\n",
    "    ret = [ret_1, ret_2, ret_3]\n",
    "    for r in ret:\n",
    "        if len(r) > 0:\n",
    "            return r[0]"
   ]
  },
  {
   "cell_type": "code",
   "execution_count": 41,
   "id": "2feb8dc0-c3bb-4c68-80af-0c9aa0bd52f0",
   "metadata": {},
   "outputs": [],
   "source": [
    "def ask_ai(board, player, opponent):\n",
    "    moves_lst = get_moves(board)\n",
    "    player_pos = get_pos(board, player)\n",
    "    opponent_pos = get_pos(board, opponent)\n",
    "\n",
    "    win_pos = check_win(board, player, moves_lst)\n",
    "    opp_win_pos = check_win(board, opponent, moves_lst)\n",
    "    utility_pos = max_utility(moves_lst)\n",
    "\n",
    "    if len(win_pos) > 0:\n",
    "        return win_pos[0]\n",
    "    else:\n",
    "        if len(opp_win_pos) > 0:\n",
    "            return opp_win_pos[0]\n",
    "        else:\n",
    "            return utility_pos\n",
    "    print(player + \" win pos: \", win_pos)\n",
    "    print(opponent + \" win pos: \", opp_win_pos)\n",
    "    print(\"utility pos: \", utility_pos)"
   ]
  },
  {
   "cell_type": "code",
   "execution_count": 48,
   "id": "7c98dc3c-e245-4de7-9c38-b37afe8e1234",
   "metadata": {},
   "outputs": [],
   "source": [
    "def start_match(user=\"X\", ai=\"O\", player=\"X\"):\n",
    "    board = [[\"1\", \"2\", \"3\"],\n",
    "             [\"4\", \"5\", \"6\"],\n",
    "             [\"7\", \"8\", \"9\"]]\n",
    "\n",
    "    for i in range(9):\n",
    "        if player == user:\n",
    "            move = int(input(\"enter position: \"))\n",
    "            board = make_move(board, move, user)\n",
    "            disp_board(board)\n",
    "            result, winner = eval_victory(board)\n",
    "            if result:\n",
    "                print(\"THE WINNER IS: \" + player)\n",
    "                break\n",
    "            player = ai\n",
    "        elif player == ai:\n",
    "            move = ask_ai(board, ai, user)\n",
    "\n",
    "            print(move)\n",
    "            # move = int(input(\"enter position: \"))\n",
    "            board = make_move(board, (3*move[0])+move[1], ai)\n",
    "            disp_board(board)\n",
    "            result, winner = eval_victory(board)\n",
    "            if result:\n",
    "                print(\"THE WINNER IS: \" + player)\n",
    "                break\n",
    "            player = user\n"
   ]
  },
  {
   "cell_type": "code",
   "execution_count": 49,
   "id": "079b6402-51fd-4cd4-a4de-2812554ed6c2",
   "metadata": {},
   "outputs": [
    {
     "name": "stdin",
     "output_type": "stream",
     "text": [
      "enter position:  0\n"
     ]
    },
    {
     "name": "stdout",
     "output_type": "stream",
     "text": [
      " \n",
      "X    #    #    \n",
      " \n",
      "#    #    #    \n",
      " \n",
      "#    #    #    \n",
      "(1, 1)\n",
      " \n",
      "X    #    #    \n",
      " \n",
      "#    O    #    \n",
      " \n",
      "#    #    #    \n"
     ]
    },
    {
     "name": "stdin",
     "output_type": "stream",
     "text": [
      "enter position:  2\n"
     ]
    },
    {
     "name": "stdout",
     "output_type": "stream",
     "text": [
      " \n",
      "X    #    X    \n",
      " \n",
      "#    O    #    \n",
      " \n",
      "#    #    #    \n",
      "(0, 1)\n",
      " \n",
      "X    O    X    \n",
      " \n",
      "#    O    #    \n",
      " \n",
      "#    #    #    \n"
     ]
    },
    {
     "name": "stdin",
     "output_type": "stream",
     "text": [
      "enter position:  3\n"
     ]
    },
    {
     "name": "stdout",
     "output_type": "stream",
     "text": [
      " \n",
      "X    O    X    \n",
      " \n",
      "X    O    #    \n",
      " \n",
      "#    #    #    \n",
      "(2, 1)\n",
      " \n",
      "X    O    X    \n",
      " \n",
      "X    O    #    \n",
      " \n",
      "#    O    #    \n",
      "THE WINNER IS: O\n"
     ]
    }
   ],
   "source": [
    "start_match()"
   ]
  }
 ],
 "metadata": {
  "kernelspec": {
   "display_name": "Python 3 (ipykernel)",
   "language": "python",
   "name": "python3"
  },
  "language_info": {
   "codemirror_mode": {
    "name": "ipython",
    "version": 3
   },
   "file_extension": ".py",
   "mimetype": "text/x-python",
   "name": "python",
   "nbconvert_exporter": "python",
   "pygments_lexer": "ipython3",
   "version": "3.10.6"
  }
 },
 "nbformat": 4,
 "nbformat_minor": 5
}
